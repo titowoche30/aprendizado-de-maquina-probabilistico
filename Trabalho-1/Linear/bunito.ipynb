{
 "cells": [
  {
   "cell_type": "markdown",
   "metadata": {},
   "source": [
    "# Importação de bibliotecas"
   ]
  },
  {
   "cell_type": "code",
   "execution_count": 146,
   "metadata": {},
   "outputs": [],
   "source": [
    "import numpy as np\n",
    "import pandas as pd\n",
    "import matplotlib.pyplot as plt\n",
    "import seaborn as sns\n",
    "from matplotlib import rcParams\n",
    "rcParams['figure.figsize'] = (4,3)\n",
    "plt.style.use(\"seaborn-whitegrid\")"
   ]
  },
  {
   "cell_type": "markdown",
   "metadata": {},
   "source": [
    "# Importação e visualização dos dados"
   ]
  },
  {
   "cell_type": "code",
   "execution_count": 147,
   "metadata": {},
   "outputs": [],
   "source": [
    "dataset = pd.read_csv('linear_regression_data.csv',header=None).rename(columns={0:'x',1:'y'})"
   ]
  },
  {
   "cell_type": "code",
   "execution_count": 148,
   "metadata": {
    "scrolled": true
   },
   "outputs": [
    {
     "data": {
      "image/png": "[encoded data removed]",
      "text/plain": [
       "<Figure size 288x216 with 1 Axes>"
      ]
     },
     "metadata": {},
     "output_type": "display_data"
    }
   ],
   "source": [
    "sns.scatterplot(dataset['x'],dataset['y'])\n",
    "plt.show()"
   ]
  },
  {
   "cell_type": "markdown",
   "metadata": {},
   "source": [
    "# Pré-processamento dos dados"
   ]
  },
  {
   "cell_type": "code",
   "execution_count": 149,
   "metadata": {},
   "outputs": [
    {
     "name": "stdout",
     "output_type": "stream",
     "text": [
      "X = \n",
      " [[ 1.          0.39293837]\n",
      " [ 1.         -0.42772133]\n",
      " [ 1.         -0.54629709]\n",
      " [ 1.          0.10262954]\n",
      " [ 1.          0.43893794]\n",
      " [ 1.         -0.15378708]\n",
      " [ 1.          0.9615284 ]\n",
      " [ 1.          0.36965948]\n",
      " [ 1.         -0.0381362 ]\n",
      " [ 1.         -0.21576496]]\n",
      "\n",
      "y = \n",
      " [[ 0.08635962]\n",
      " [-0.64387173]\n",
      " [-0.67498147]\n",
      " [-0.26289158]\n",
      " [ 0.14317741]\n",
      " [-0.47272884]\n",
      " [ 0.1141669 ]\n",
      " [-0.18032295]\n",
      " [ 0.01182141]\n",
      " [-0.07986457]]\n"
     ]
    }
   ],
   "source": [
    "X = np.hstack([np.ones(dataset.shape[0]).reshape(-1,1),dataset['x'].values.reshape(-1,1)])\n",
    "y = dataset['y'].values.reshape(-1,1)\n",
    "n_lin,n_col = X.shape\n",
    "print('X = \\n',X)\n",
    "print('\\ny = \\n',y)"
   ]
  },
  {
   "cell_type": "markdown",
   "metadata": {},
   "source": [
    "# Passo de estimação"
   ]
  },
  {
   "cell_type": "markdown",
   "metadata": {},
   "source": [
    "## Definições a partir de conhecimentos/experimentos anteriores "
   ]
  },
  {
   "cell_type": "markdown",
   "metadata": {},
   "source": [
    "Os momentos da priori $p(\\mathbf{w}) = \\mathcal{N}(\\mathbf{w} | \\mathbf{m_0},\\mathbf{S_0})$. \n",
    "\n",
    "\n"
   ]
  },
  {
   "cell_type": "markdown",
   "metadata": {},
   "source": [
    "$\\xrightarrow{}$ Definirei $\\mathbf{m_0} = [0 \\ 0]$ e $\\mathbf{S_0} = \\begin{bmatrix}\n",
    "1 & 0\\\\\n",
    "0 & 1\n",
    "\\end{bmatrix} $"
   ]
  },
  {
   "cell_type": "markdown",
   "metadata": {},
   "source": [
    "A variância do ruı́do $ p(\\epsilon) = \\mathcal{N}(\\epsilon | 0,\\sigma^2) $\n",
    "\n",
    "$\\xrightarrow{}$ Definirei $\\sigma^2 = 1$ "
   ]
  },
  {
   "cell_type": "code",
   "execution_count": 172,
   "metadata": {},
   "outputs": [],
   "source": [
    "m0 = np.zeros(n_col).reshape(-1,1)\n",
    "S0 = np.eye((n_col))\n",
    "sigma_ruido = 0.5"
   ]
  },
  {
   "cell_type": "markdown",
   "metadata": {},
   "source": [
    "## Cálculo da posteriori de w"
   ]
  },
  {
   "cell_type": "markdown",
   "metadata": {},
   "source": [
    "$p(\\mathbf{w} | \\mathcal{D}) = \\mathcal{N}(\\mathbf{w} | \\mathbf{\\mu},\\mathbf{\\Sigma})$\n",
    "\n",
    " \n"
   ]
  },
  {
   "cell_type": "markdown",
   "metadata": {},
   "source": [
    "$\\mathbf{\\mu} = \\mathbf{m_0} + (\\mathbf{S_0}\\mathbf{X}^{T}\\mathbf{X} + \\sigma^2 \\mathbf{I})^{-1} \\ \\mathbf{S_0}\\mathbf{X}^{T}(\\mathbf{y}-\\mathbf{X}\\mathbf{m_0})$ ,"
   ]
  },
  {
   "cell_type": "code",
   "execution_count": 173,
   "metadata": {},
   "outputs": [
    {
     "name": "stdout",
     "output_type": "stream",
     "text": [
      "[[-0.22210404]\n",
      " [ 0.4219028 ]]\n"
     ]
    }
   ],
   "source": [
    "#u_1 = np.linalg.inv(S0.dot(X.T).dot(X)) \n",
    "\n",
    "u_1 = np.linalg.inv(S0.dot(X.T).dot(X) + np.eye(n_col)*sigma_ruido) \n",
    "u_2 = S0.dot(X.T).dot(y - X.dot(m0))\n",
    "u = m0 + u_1.dot(u_2)\n",
    "print(u)"
   ]
  },
  {
   "cell_type": "markdown",
   "metadata": {},
   "source": [
    "$ \\mathbf{\\Sigma} = \\mathbf{S_0} - (\\mathbf{S_0}\\mathbf{X}^{T}\\mathbf{X} + \\sigma^2 \\mathbf{I})^{-1} \\ \\mathbf{S_0}\\mathbf{X}^{T}\\mathbf{X}\\mathbf{S_0} $"
   ]
  },
  {
   "cell_type": "code",
   "execution_count": 174,
   "metadata": {},
   "outputs": [
    {
     "name": "stdout",
     "output_type": "stream",
     "text": [
      "[[ 0.04909728 -0.01755839]\n",
      " [-0.01755839  0.20855857]]\n"
     ]
    }
   ],
   "source": [
    "#sigma_1 = np.linalg.inv(S0.dot(X.T).dot(X) + np.eye(n_col)*sigma_ruido)\n",
    "sigma_1 = u_1\n",
    "sigma_2 = S0.dot(X.T).dot(X).dot(S0)\n",
    "sigma = S0 - sigma_1.dot(sigma_2)\n",
    "print(sigma)"
   ]
  },
  {
   "cell_type": "markdown",
   "metadata": {},
   "source": [
    "# Passo de predição"
   ]
  },
  {
   "cell_type": "markdown",
   "metadata": {},
   "source": [
    "Distribuição preditiva\n",
    "\n",
    "$\\xrightarrow{} p(\\mathbf{y_*} | \\mathbf{X_*}) = \\mathcal{N}(\\mathbf{y_*} | \\mathbf{X_*}\\mathbf{\\mu} \\ , \\ \\mathbf{X_*}\\mathbf{\\Sigma}\\mathbf{X_*}^{T} + \\sigma^2\\mathbf{I})$"
   ]
  },
  {
   "cell_type": "code",
   "execution_count": 175,
   "metadata": {},
   "outputs": [
    {
     "name": "stdout",
     "output_type": "stream",
     "text": [
      "u_final = \n",
      " [-0.05632224 -0.40256086 -0.45258831 -0.17880435 -0.03691489 -0.28698724\n",
      "  0.18356749 -0.06614367 -0.23819381 -0.31313588]\n",
      "\n",
      "sigma_final = \n",
      " [0.56750011 0.60227233 0.63052379 0.54768997 0.57386544 0.55943029\n",
      " 0.70815158 0.56461516 0.55073982 0.56638359]\n"
     ]
    }
   ],
   "source": [
    "u_final = X.dot(u).flatten()\n",
    "#sigma_final = np.diag(X.dot(sigma).dot(X.T))\n",
    "sigma_final = np.diag(X.dot(sigma).dot(X.T) + np.eye(10)*sigma_ruido)\n",
    "print('u_final = \\n',u_final)\n",
    "print('\\nsigma_final = \\n',sigma_final)"
   ]
  },
  {
   "cell_type": "code",
   "execution_count": 176,
   "metadata": {},
   "outputs": [],
   "source": [
    "banda = 2 * np.sqrt(sigma_final).reshape(-1,1).flatten()\n",
    "banda_mais = u_final + banda\n",
    "banda_menos = u_final - banda"
   ]
  },
  {
   "cell_type": "code",
   "execution_count": 177,
   "metadata": {},
   "outputs": [
    {
     "data": {
      "image/png": "[encoded data removed]",
      "text/plain": [
       "<Figure size 288x216 with 1 Axes>"
      ]
     },
     "metadata": {},
     "output_type": "display_data"
    }
   ],
   "source": [
    "sns.scatterplot(dataset['x'],dataset['y'],color='r')\n",
    "sns.lineplot(dataset['x'],banda_mais,label='$\\mu+2 \\sigma$')\n",
    "sns.lineplot(dataset['x'],u_final,label='$\\mu$')\n",
    "sns.lineplot(dataset['x'],banda_menos,label='$\\mu-2 \\sigma$')\n",
    "plt.legend(bbox_to_anchor=(1.05, 1), loc=2,shadow=True,frameon=True)\n",
    "plt.show()"
   ]
  },
  {
   "cell_type": "code",
   "execution_count": 178,
   "metadata": {},
   "outputs": [
    {
     "data": {
      "text/plain": [
       "<matplotlib.axes._subplots.AxesSubplot at 0x7f3075427250>"
      ]
     },
     "execution_count": 178,
     "metadata": {},
     "output_type": "execute_result"
    },
    {
     "data": {
      "image/png": "[encoded data removed]",
      "text/plain": [
       "<Figure size 288x216 with 1 Axes>"
      ]
     },
     "metadata": {},
     "output_type": "display_data"
    }
   ],
   "source": [
    "sns.scatterplot(dataset['x'],dataset['y'],color='r')\n",
    "sns.lineplot(dataset['x'],u_final,label='$\\mu$')\n"
   ]
  }
 ],
 "metadata": {
  "kernelspec": {
   "display_name": "Python 3.7.6 64-bit ('base': conda)",
   "language": "python",
   "name": "python37664bitbasecondab3ec23f02df54d3cad9da5720740ca37"
  },
  "language_info": {
   "codemirror_mode": {
    "name": "ipython",
    "version": 3
   },
   "file_extension": ".py",
   "mimetype": "text/x-python",
   "name": "python",
   "nbconvert_exporter": "python",
   "pygments_lexer": "ipython3",
   "version": "3.7.6"
  }
 },
 "nbformat": 4,
 "nbformat_minor": 4
}
